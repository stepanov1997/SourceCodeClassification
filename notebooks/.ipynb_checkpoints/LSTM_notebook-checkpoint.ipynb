{
 "cells": [
  {
   "cell_type": "code",
   "execution_count": null,
   "metadata": {
    "pycharm": {
     "is_executing": true
    }
   },
   "outputs": [
    {
     "name": "stdout",
     "output_type": "stream",
     "text": [
      "[INFO] training network...\n",
      "Epoch 1/2\n"
     ]
    }
   ],
   "source": [
    "import numpy as np\n",
    "from sklearn.model_selection import train_test_split\n",
    "from sklearn.svm import SVC\n",
    "import pickle\n",
    "import sys\n",
    "sys.path.append(\"../\")\n",
    "from tensorflow.keras.optimizers import Adam\n",
    "from tensorflow.python.keras.utils.np_utils import to_categorical\n",
    "\n",
    "\n",
    "from models.LSTMClassificationModel import LSTMClassificationModel\n",
    "\n",
    "from tensorflow.keras.backend import clear_session\n",
    "\n",
    "clear_session()\n",
    "def calculate_accuracy(predictions, targets):\n",
    "    arr = np.array([predictions[i] == targets[i] for i in range(0, len(predictions))])\n",
    "    accuracy = np.count_nonzero(arr) / len(arr)\n",
    "    return accuracy\n",
    "\n",
    "\n",
    "classes = np.load(\"../data/classes_of_dataset.npy\", allow_pickle=True)\n",
    "class_indices = np.load(\"../data/class_indices_of_dataset.npy\", allow_pickle=True).astype('uint8')\n",
    "source_codes_tokenized = np.load(\"../data/tokenized_data/source_codes_binary_tokenized.npy\", allow_pickle=True)\n",
    "\n",
    "X_train, X_test_val, y_train, y_test_val = train_test_split(source_codes_tokenized, class_indices, test_size=0.20)\n",
    "X_test, X_val, y_test, y_val = train_test_split(X_test_val, y_test_val, test_size=0.50)\n",
    "\n",
    "embedded_dim = 20\n",
    "hidden_state_dim = 15\n",
    "\n",
    "model = LSTMClassificationModel(train_features_size=X_train.shape[1],\n",
    "                                vocabulary_size=X_train.shape[0],\n",
    "                                embedded_dim=embedded_dim,\n",
    "                                hidden_state_dim=15)\n",
    "\n",
    "# veličina batch-a\n",
    "BATCH_SIZE = 128\n",
    "# broj epoha koji se trenira\n",
    "NUM_EPOCHS = 2\n",
    "\n",
    "print(\"[INFO] training network...\")\n",
    "model.compile(loss=\"categorical_crossentropy\", optimizer='rmsprop', metrics=[\"accuracy\"])\n",
    "\n",
    "y_train = to_categorical(y_train, len(classes))\n",
    "y_test = to_categorical(y_test, len(classes))\n",
    "y_val = to_categorical(y_val, len(classes))\n",
    "\n",
    "# treniranje\n",
    "model.fit(X_train, y_train,\n",
    "          epochs=NUM_EPOCHS,\n",
    "          batch_size=BATCH_SIZE,\n",
    "          verbose=1,\n",
    "          shuffle=True,\n",
    "          validation_data=(X_val, y_val))\n",
    "\n",
    "model.save(\"../data/fitted_classificators/lstm_binary_vect\")\n",
    "\n",
    "loss, acc = model.evaluate(X_test, y_test, verbose=1)\n",
    "print(\"Untrained model, accuracy: {:5.2f}%\".format(100 * acc))"
   ]
  },
  {
   "cell_type": "code",
   "execution_count": null,
   "metadata": {
    "pycharm": {
     "is_executing": true,
     "name": "#%%\n"
    }
   },
   "outputs": [],
   "source": []
  }
 ],
 "metadata": {
  "kernelspec": {
   "display_name": "Python 3",
   "language": "python",
   "name": "python3"
  },
  "language_info": {
   "codemirror_mode": {
    "name": "ipython",
    "version": 3
   },
   "file_extension": ".py",
   "mimetype": "text/x-python",
   "name": "python",
   "nbconvert_exporter": "python",
   "pygments_lexer": "ipython3",
   "version": "3.8.7"
  }
 },
 "nbformat": 4,
 "nbformat_minor": 1
}
